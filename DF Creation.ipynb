{
 "cells": [
  {
   "cell_type": "markdown",
   "id": "d3e94c16",
   "metadata": {},
   "source": [
    "# Universidad del Valle de Guatemala\n",
    "## Security Data Science - 10\n",
    "* Juan Manuel Marroquin Alfaro - 19845\n",
    "* Carlos Alberto Raxtum Ramos - 19721\n",
    "* Jose Abraham Gutierrez Corado - 19111\n",
    "* Walter Danilo Saldaña Salguero - 19897\n",
    "* Javier Alejandro Cotto Argueta - 19324\n",
    "\n",
    "## Proyecto Fase 2: Selección de caracteristicas y limpieza de datos"
   ]
  },
  {
   "cell_type": "code",
   "execution_count": 10,
   "id": "bc0ae8f5",
   "metadata": {},
   "outputs": [
    {
     "name": "stdout",
     "output_type": "stream",
     "text": [
      "./BOSSbase/BOSSbase_1.01\n",
      "[]\n",
      "./BOSSbase/BOSSbase_1.01\\1.pgm\n"
     ]
    },
    {
     "ename": "IndexError",
     "evalue": "list index out of range",
     "output_type": "error",
     "traceback": [
      "\u001b[1;31m---------------------------------------------------------------------------\u001b[0m",
      "\u001b[1;31mIndexError\u001b[0m                                Traceback (most recent call last)",
      "Input \u001b[1;32mIn [10]\u001b[0m, in \u001b[0;36m<cell line: 28>\u001b[1;34m()\u001b[0m\n\u001b[0;32m     38\u001b[0m value \u001b[38;5;241m=\u001b[39m np\u001b[38;5;241m.\u001b[39masarray(img_grey\u001b[38;5;241m.\u001b[39mgetdata(), dtype\u001b[38;5;241m=\u001b[39m\u001b[38;5;28mint\u001b[39m)\u001b[38;5;241m.\u001b[39mreshape((width, height))\n\u001b[0;32m     39\u001b[0m value \u001b[38;5;241m=\u001b[39m value\u001b[38;5;241m.\u001b[39mflatten()\n\u001b[1;32m---> 41\u001b[0m value \u001b[38;5;241m=\u001b[39m np\u001b[38;5;241m.\u001b[39mappend(value,\u001b[43mlabels\u001b[49m\u001b[43m[\u001b[49m\u001b[43mi\u001b[49m\u001b[43m]\u001b[49m)\n\u001b[0;32m     42\u001b[0m i \u001b[38;5;241m+\u001b[39m\u001b[38;5;241m=\u001b[39m\u001b[38;5;241m1\u001b[39m\n\u001b[0;32m     44\u001b[0m \u001b[38;5;28mprint\u001b[39m(value)\n",
      "\u001b[1;31mIndexError\u001b[0m: list index out of range"
     ]
    }
   ],
   "source": [
    "from PIL import Image\n",
    "import numpy as np\n",
    "import sys\n",
    "import os\n",
    "import csv# default format can be changed as needed\n",
    "def createFileList(myDir, format='.pgm'):\n",
    "    fileList = []\n",
    "    print(myDir)\n",
    "    labels = []\n",
    "    names = []\n",
    "    keywords = {\"K\" : \"1\",} # keys and values to be changed as needed\n",
    "    for root, dirs, files in os.walk(myDir, topdown=True):\n",
    "        for name in files:\n",
    "            if name.endswith(format):\n",
    "                fullName = os.path.join(root, name)\n",
    "                fileList.append(fullName)\n",
    "            for keyword in keywords:\n",
    "                if keyword in name:\n",
    "                    labels.append(keywords[keyword])\n",
    "                else:\n",
    "                    continue\n",
    "            names.append(name)\n",
    "    return fileList, labels, names\n",
    "\n",
    "myFileList, labels, names  = createFileList('./BOSSbase/BOSSbase_1.01')\n",
    "print(labels)\n",
    "i = 0\n",
    "for file in myFileList:\n",
    "    print(file)\n",
    "    img_file = Image.open(file)\n",
    "    # img_file.show()# get original image parameters...\n",
    "    width, height = img_file.size\n",
    "    format = img_file.format\n",
    "    mode = img_file.mode# Make image Greyscale\n",
    "    img_grey = img_file.convert('L')\n",
    "    #img_grey.save('result.png')\n",
    "    #img_grey.show()# Save Greyscale values\n",
    "    value = np.asarray(img_grey.getdata(), dtype=int).reshape((width, height))\n",
    "    value = value.flatten()\n",
    "    \n",
    "    value = np.append(value,labels[i])\n",
    "    i +=1\n",
    "    \n",
    "    print(value)\n",
    "    with open(\"images-db.csv\", 'a') as f:\n",
    "        writer = csv.writer(f)\n",
    "        writer.writerow(value)"
   ]
  },
  {
   "cell_type": "code",
   "execution_count": null,
   "id": "b2eddea7",
   "metadata": {},
   "outputs": [],
   "source": []
  },
  {
   "cell_type": "raw",
   "id": "e498d3c8",
   "metadata": {},
   "source": []
  }
 ],
 "metadata": {
  "kernelspec": {
   "display_name": "Python 3 (ipykernel)",
   "language": "python",
   "name": "python3"
  },
  "language_info": {
   "codemirror_mode": {
    "name": "ipython",
    "version": 3
   },
   "file_extension": ".py",
   "mimetype": "text/x-python",
   "name": "python",
   "nbconvert_exporter": "python",
   "pygments_lexer": "ipython3",
   "version": "3.10.5"
  }
 },
 "nbformat": 4,
 "nbformat_minor": 5
}
