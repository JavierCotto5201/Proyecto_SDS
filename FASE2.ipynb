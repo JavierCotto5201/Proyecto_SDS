{
 "cells": [
  {
   "cell_type": "markdown",
   "id": "885650c8",
   "metadata": {},
   "source": [
    "# Universidad del Valle de Guatemala\n",
    "## Security Data Science - 10\n",
    "* Juan Manuel Marroquin Alfaro - 19845\n",
    "* Carlos Alberto Raxtum Ramos - 19721\n",
    "* Jose Abraham Gutierrez Corado - 19111\n",
    "* Walter Danilo Saldaña Salguero - 19897\n",
    "* Javier Alejandro Cotto Argueta - 19324\n",
    "\n",
    "## Proyecto Fase 2: Selección de caracteristicas y limpieza de datos"
   ]
  },
  {
   "cell_type": "code",
   "execution_count": 1,
   "id": "c0c3574d",
   "metadata": {},
   "outputs": [
    {
     "name": "stderr",
     "output_type": "stream",
     "text": [
      "C:\\Users\\JMarroquin\\AppData\\Local\\Temp\\ipykernel_26376\\1509020744.py:27: DeprecationWarning: `import pandas_profiling` is going to be deprecated by April 1st. Please use `import ydata_profiling` instead.\n",
      "  import pandas_profiling\n"
     ]
    }
   ],
   "source": [
    "import pandas as pd\n",
    "import matplotlib.pyplot as plt\n",
    "import seaborn as sns\n",
    "from sklearn.preprocessing import StandardScaler\n",
    "import matplotlib.pyplot as plt\n",
    "import numpy as np\n",
    "import sklearn.cluster as cluster\n",
    "from sklearn.cluster import KMeans\n",
    "import itertools\n",
    "from sklearn.preprocessing import scale\n",
    "from sklearn.cluster import KMeans\n",
    "from sklearn.cluster import DBSCAN\n",
    "from sklearn.model_selection import train_test_split\n",
    "from sklearn.naive_bayes import GaussianNB\n",
    "from sklearn.metrics import (\n",
    "    accuracy_score,\n",
    "    precision_score,\n",
    "    recall_score,\n",
    "    confusion_matrix,\n",
    "    ConfusionMatrixDisplay,\n",
    "    f1_score,\n",
    ")\n",
    "\n",
    "from yellowbrick.cluster import SilhouetteVisualizer\n",
    "from os import listdir\n",
    "from os.path import isfile, join\n",
    "import pandas_profiling\n",
    "import os\n",
    "from sklearn import svm\n",
    "from sklearn.ensemble import GradientBoostingClassifier"
   ]
  },
  {
   "cell_type": "markdown",
   "id": "3b54a1f1",
   "metadata": {},
   "source": [
    "## Normal Images"
   ]
  },
  {
   "cell_type": "code",
   "execution_count": 2,
   "id": "b96705e2",
   "metadata": {},
   "outputs": [
    {
     "data": {
      "text/html": [
       "<div>\n",
       "<style scoped>\n",
       "    .dataframe tbody tr th:only-of-type {\n",
       "        vertical-align: middle;\n",
       "    }\n",
       "\n",
       "    .dataframe tbody tr th {\n",
       "        vertical-align: top;\n",
       "    }\n",
       "\n",
       "    .dataframe thead th {\n",
       "        text-align: right;\n",
       "    }\n",
       "</style>\n",
       "<table border=\"1\" class=\"dataframe\">\n",
       "  <thead>\n",
       "    <tr style=\"text-align: right;\">\n",
       "      <th></th>\n",
       "      <th>0</th>\n",
       "      <th>1</th>\n",
       "      <th>2</th>\n",
       "      <th>3</th>\n",
       "      <th>4</th>\n",
       "      <th>5</th>\n",
       "      <th>6</th>\n",
       "      <th>7</th>\n",
       "      <th>8</th>\n",
       "      <th>9</th>\n",
       "      <th>...</th>\n",
       "      <th>65527</th>\n",
       "      <th>65528</th>\n",
       "      <th>65529</th>\n",
       "      <th>65530</th>\n",
       "      <th>65531</th>\n",
       "      <th>65532</th>\n",
       "      <th>65533</th>\n",
       "      <th>65534</th>\n",
       "      <th>65535</th>\n",
       "      <th>65536</th>\n",
       "    </tr>\n",
       "  </thead>\n",
       "  <tbody>\n",
       "    <tr>\n",
       "      <th>693</th>\n",
       "      <td>692.0</td>\n",
       "      <td>80</td>\n",
       "      <td>79</td>\n",
       "      <td>78</td>\n",
       "      <td>80</td>\n",
       "      <td>80</td>\n",
       "      <td>81</td>\n",
       "      <td>81</td>\n",
       "      <td>81</td>\n",
       "      <td>81</td>\n",
       "      <td>...</td>\n",
       "      <td>165</td>\n",
       "      <td>167</td>\n",
       "      <td>169</td>\n",
       "      <td>174</td>\n",
       "      <td>171</td>\n",
       "      <td>163</td>\n",
       "      <td>167</td>\n",
       "      <td>166</td>\n",
       "      <td>165</td>\n",
       "      <td>161</td>\n",
       "    </tr>\n",
       "    <tr>\n",
       "      <th>951</th>\n",
       "      <td>950.0</td>\n",
       "      <td>23</td>\n",
       "      <td>23</td>\n",
       "      <td>24</td>\n",
       "      <td>23</td>\n",
       "      <td>24</td>\n",
       "      <td>24</td>\n",
       "      <td>24</td>\n",
       "      <td>24</td>\n",
       "      <td>26</td>\n",
       "      <td>...</td>\n",
       "      <td>69</td>\n",
       "      <td>98</td>\n",
       "      <td>113</td>\n",
       "      <td>121</td>\n",
       "      <td>126</td>\n",
       "      <td>128</td>\n",
       "      <td>128</td>\n",
       "      <td>126</td>\n",
       "      <td>111</td>\n",
       "      <td>103</td>\n",
       "    </tr>\n",
       "    <tr>\n",
       "      <th>719</th>\n",
       "      <td>718.0</td>\n",
       "      <td>57</td>\n",
       "      <td>63</td>\n",
       "      <td>54</td>\n",
       "      <td>57</td>\n",
       "      <td>50</td>\n",
       "      <td>48</td>\n",
       "      <td>51</td>\n",
       "      <td>50</td>\n",
       "      <td>39</td>\n",
       "      <td>...</td>\n",
       "      <td>25</td>\n",
       "      <td>25</td>\n",
       "      <td>24</td>\n",
       "      <td>24</td>\n",
       "      <td>24</td>\n",
       "      <td>26</td>\n",
       "      <td>26</td>\n",
       "      <td>27</td>\n",
       "      <td>28</td>\n",
       "      <td>28</td>\n",
       "    </tr>\n",
       "    <tr>\n",
       "      <th>601</th>\n",
       "      <td>600.0</td>\n",
       "      <td>65</td>\n",
       "      <td>65</td>\n",
       "      <td>65</td>\n",
       "      <td>66</td>\n",
       "      <td>65</td>\n",
       "      <td>64</td>\n",
       "      <td>63</td>\n",
       "      <td>62</td>\n",
       "      <td>61</td>\n",
       "      <td>...</td>\n",
       "      <td>83</td>\n",
       "      <td>115</td>\n",
       "      <td>132</td>\n",
       "      <td>144</td>\n",
       "      <td>152</td>\n",
       "      <td>149</td>\n",
       "      <td>146</td>\n",
       "      <td>144</td>\n",
       "      <td>136</td>\n",
       "      <td>92</td>\n",
       "    </tr>\n",
       "    <tr>\n",
       "      <th>994</th>\n",
       "      <td>993.0</td>\n",
       "      <td>165</td>\n",
       "      <td>167</td>\n",
       "      <td>163</td>\n",
       "      <td>164</td>\n",
       "      <td>165</td>\n",
       "      <td>167</td>\n",
       "      <td>168</td>\n",
       "      <td>168</td>\n",
       "      <td>177</td>\n",
       "      <td>...</td>\n",
       "      <td>107</td>\n",
       "      <td>106</td>\n",
       "      <td>105</td>\n",
       "      <td>107</td>\n",
       "      <td>101</td>\n",
       "      <td>108</td>\n",
       "      <td>113</td>\n",
       "      <td>110</td>\n",
       "      <td>107</td>\n",
       "      <td>111</td>\n",
       "    </tr>\n",
       "  </tbody>\n",
       "</table>\n",
       "<p>5 rows × 65537 columns</p>\n",
       "</div>"
      ],
      "text/plain": [
       "     0      1      2      3      4      5      6      7      8      9      \\\n",
       "693  692.0     80     79     78     80     80     81     81     81     81   \n",
       "951  950.0     23     23     24     23     24     24     24     24     26   \n",
       "719  718.0     57     63     54     57     50     48     51     50     39   \n",
       "601  600.0     65     65     65     66     65     64     63     62     61   \n",
       "994  993.0    165    167    163    164    165    167    168    168    177   \n",
       "\n",
       "     ...  65527  65528  65529  65530  65531  65532  65533  65534  65535  65536  \n",
       "693  ...    165    167    169    174    171    163    167    166    165    161  \n",
       "951  ...     69     98    113    121    126    128    128    126    111    103  \n",
       "719  ...     25     25     24     24     24     26     26     27     28     28  \n",
       "601  ...     83    115    132    144    152    149    146    144    136     92  \n",
       "994  ...    107    106    105    107    101    108    113    110    107    111  \n",
       "\n",
       "[5 rows x 65537 columns]"
      ]
     },
     "execution_count": 2,
     "metadata": {},
     "output_type": "execute_result"
    }
   ],
   "source": [
    "df1 = pd.read_csv('normal_images_info.csv', header = None)\n",
    "df1.sample(5)"
   ]
  },
  {
   "cell_type": "markdown",
   "id": "039cbc7b",
   "metadata": {},
   "source": [
    "### Observaciones del Dataframe de Imagenes Normales"
   ]
  },
  {
   "cell_type": "code",
   "execution_count": 3,
   "id": "18f96d8b",
   "metadata": {},
   "outputs": [
    {
     "data": {
      "text/plain": [
       "(1001, 65537)"
      ]
     },
     "execution_count": 3,
     "metadata": {},
     "output_type": "execute_result"
    }
   ],
   "source": [
    "df1.shape"
   ]
  },
  {
   "cell_type": "markdown",
   "id": "f0c467c5",
   "metadata": {},
   "source": [
    "## Stego Images"
   ]
  },
  {
   "cell_type": "code",
   "execution_count": 4,
   "id": "7f960fb8",
   "metadata": {},
   "outputs": [
    {
     "data": {
      "text/html": [
       "<div>\n",
       "<style scoped>\n",
       "    .dataframe tbody tr th:only-of-type {\n",
       "        vertical-align: middle;\n",
       "    }\n",
       "\n",
       "    .dataframe tbody tr th {\n",
       "        vertical-align: top;\n",
       "    }\n",
       "\n",
       "    .dataframe thead th {\n",
       "        text-align: right;\n",
       "    }\n",
       "</style>\n",
       "<table border=\"1\" class=\"dataframe\">\n",
       "  <thead>\n",
       "    <tr style=\"text-align: right;\">\n",
       "      <th></th>\n",
       "      <th>0</th>\n",
       "      <th>1</th>\n",
       "      <th>2</th>\n",
       "      <th>3</th>\n",
       "      <th>4</th>\n",
       "      <th>5</th>\n",
       "      <th>6</th>\n",
       "      <th>7</th>\n",
       "      <th>8</th>\n",
       "      <th>9</th>\n",
       "      <th>...</th>\n",
       "      <th>65527</th>\n",
       "      <th>65528</th>\n",
       "      <th>65529</th>\n",
       "      <th>65530</th>\n",
       "      <th>65531</th>\n",
       "      <th>65532</th>\n",
       "      <th>65533</th>\n",
       "      <th>65534</th>\n",
       "      <th>65535</th>\n",
       "      <th>65536</th>\n",
       "    </tr>\n",
       "  </thead>\n",
       "  <tbody>\n",
       "    <tr>\n",
       "      <th>121</th>\n",
       "      <td>120.0</td>\n",
       "      <td>18</td>\n",
       "      <td>18</td>\n",
       "      <td>20</td>\n",
       "      <td>24</td>\n",
       "      <td>34</td>\n",
       "      <td>39</td>\n",
       "      <td>38</td>\n",
       "      <td>37</td>\n",
       "      <td>32</td>\n",
       "      <td>...</td>\n",
       "      <td>19</td>\n",
       "      <td>13</td>\n",
       "      <td>13</td>\n",
       "      <td>17</td>\n",
       "      <td>16</td>\n",
       "      <td>25</td>\n",
       "      <td>21</td>\n",
       "      <td>19</td>\n",
       "      <td>18</td>\n",
       "      <td>12</td>\n",
       "    </tr>\n",
       "    <tr>\n",
       "      <th>883</th>\n",
       "      <td>882.0</td>\n",
       "      <td>134</td>\n",
       "      <td>135</td>\n",
       "      <td>135</td>\n",
       "      <td>135</td>\n",
       "      <td>136</td>\n",
       "      <td>134</td>\n",
       "      <td>133</td>\n",
       "      <td>134</td>\n",
       "      <td>133</td>\n",
       "      <td>...</td>\n",
       "      <td>29</td>\n",
       "      <td>30</td>\n",
       "      <td>34</td>\n",
       "      <td>32</td>\n",
       "      <td>28</td>\n",
       "      <td>34</td>\n",
       "      <td>41</td>\n",
       "      <td>34</td>\n",
       "      <td>36</td>\n",
       "      <td>38</td>\n",
       "    </tr>\n",
       "    <tr>\n",
       "      <th>638</th>\n",
       "      <td>637.0</td>\n",
       "      <td>82</td>\n",
       "      <td>82</td>\n",
       "      <td>82</td>\n",
       "      <td>82</td>\n",
       "      <td>83</td>\n",
       "      <td>82</td>\n",
       "      <td>82</td>\n",
       "      <td>83</td>\n",
       "      <td>81</td>\n",
       "      <td>...</td>\n",
       "      <td>153</td>\n",
       "      <td>152</td>\n",
       "      <td>153</td>\n",
       "      <td>153</td>\n",
       "      <td>153</td>\n",
       "      <td>152</td>\n",
       "      <td>152</td>\n",
       "      <td>152</td>\n",
       "      <td>152</td>\n",
       "      <td>152</td>\n",
       "    </tr>\n",
       "    <tr>\n",
       "      <th>485</th>\n",
       "      <td>484.0</td>\n",
       "      <td>53</td>\n",
       "      <td>90</td>\n",
       "      <td>120</td>\n",
       "      <td>137</td>\n",
       "      <td>146</td>\n",
       "      <td>151</td>\n",
       "      <td>143</td>\n",
       "      <td>130</td>\n",
       "      <td>115</td>\n",
       "      <td>...</td>\n",
       "      <td>193</td>\n",
       "      <td>217</td>\n",
       "      <td>234</td>\n",
       "      <td>238</td>\n",
       "      <td>237</td>\n",
       "      <td>237</td>\n",
       "      <td>227</td>\n",
       "      <td>206</td>\n",
       "      <td>180</td>\n",
       "      <td>152</td>\n",
       "    </tr>\n",
       "    <tr>\n",
       "      <th>439</th>\n",
       "      <td>438.0</td>\n",
       "      <td>164</td>\n",
       "      <td>168</td>\n",
       "      <td>174</td>\n",
       "      <td>178</td>\n",
       "      <td>183</td>\n",
       "      <td>185</td>\n",
       "      <td>186</td>\n",
       "      <td>186</td>\n",
       "      <td>186</td>\n",
       "      <td>...</td>\n",
       "      <td>205</td>\n",
       "      <td>239</td>\n",
       "      <td>243</td>\n",
       "      <td>244</td>\n",
       "      <td>206</td>\n",
       "      <td>209</td>\n",
       "      <td>244</td>\n",
       "      <td>219</td>\n",
       "      <td>222</td>\n",
       "      <td>242</td>\n",
       "    </tr>\n",
       "  </tbody>\n",
       "</table>\n",
       "<p>5 rows × 65537 columns</p>\n",
       "</div>"
      ],
      "text/plain": [
       "     0      1      2      3      4      5      6      7      8      9      \\\n",
       "121  120.0     18     18     20     24     34     39     38     37     32   \n",
       "883  882.0    134    135    135    135    136    134    133    134    133   \n",
       "638  637.0     82     82     82     82     83     82     82     83     81   \n",
       "485  484.0     53     90    120    137    146    151    143    130    115   \n",
       "439  438.0    164    168    174    178    183    185    186    186    186   \n",
       "\n",
       "     ...  65527  65528  65529  65530  65531  65532  65533  65534  65535  65536  \n",
       "121  ...     19     13     13     17     16     25     21     19     18     12  \n",
       "883  ...     29     30     34     32     28     34     41     34     36     38  \n",
       "638  ...    153    152    153    153    153    152    152    152    152    152  \n",
       "485  ...    193    217    234    238    237    237    227    206    180    152  \n",
       "439  ...    205    239    243    244    206    209    244    219    222    242  \n",
       "\n",
       "[5 rows x 65537 columns]"
      ]
     },
     "execution_count": 4,
     "metadata": {},
     "output_type": "execute_result"
    }
   ],
   "source": [
    "df2 = pd.read_csv('infected_images_info.csv', header = None)\n",
    "df2.sample(5)"
   ]
  },
  {
   "cell_type": "markdown",
   "id": "7cbac009",
   "metadata": {},
   "source": [
    "### Observaciones del Dataframe de Imagenes Alteradas"
   ]
  },
  {
   "cell_type": "code",
   "execution_count": 5,
   "id": "5153429c",
   "metadata": {},
   "outputs": [
    {
     "data": {
      "text/plain": [
       "(1001, 65537)"
      ]
     },
     "execution_count": 5,
     "metadata": {},
     "output_type": "execute_result"
    }
   ],
   "source": [
    "df2.shape"
   ]
  },
  {
   "cell_type": "markdown",
   "id": "1a20ff0e",
   "metadata": {},
   "source": [
    "## Dataframe Completo"
   ]
  },
  {
   "cell_type": "markdown",
   "id": "9606fec4",
   "metadata": {},
   "source": [
    "Concatenación de los dataframes"
   ]
  },
  {
   "cell_type": "code",
   "execution_count": 6,
   "id": "ab2e19e1",
   "metadata": {},
   "outputs": [
    {
     "data": {
      "text/html": [
       "<div>\n",
       "<style scoped>\n",
       "    .dataframe tbody tr th:only-of-type {\n",
       "        vertical-align: middle;\n",
       "    }\n",
       "\n",
       "    .dataframe tbody tr th {\n",
       "        vertical-align: top;\n",
       "    }\n",
       "\n",
       "    .dataframe thead th {\n",
       "        text-align: right;\n",
       "    }\n",
       "</style>\n",
       "<table border=\"1\" class=\"dataframe\">\n",
       "  <thead>\n",
       "    <tr style=\"text-align: right;\">\n",
       "      <th></th>\n",
       "      <th>0</th>\n",
       "      <th>1</th>\n",
       "      <th>2</th>\n",
       "      <th>3</th>\n",
       "      <th>4</th>\n",
       "      <th>5</th>\n",
       "      <th>6</th>\n",
       "      <th>7</th>\n",
       "      <th>8</th>\n",
       "      <th>9</th>\n",
       "      <th>...</th>\n",
       "      <th>65528</th>\n",
       "      <th>65529</th>\n",
       "      <th>65530</th>\n",
       "      <th>65531</th>\n",
       "      <th>65532</th>\n",
       "      <th>65533</th>\n",
       "      <th>65534</th>\n",
       "      <th>65535</th>\n",
       "      <th>65536</th>\n",
       "      <th>isInfected</th>\n",
       "    </tr>\n",
       "  </thead>\n",
       "  <tbody>\n",
       "    <tr>\n",
       "      <th>0</th>\n",
       "      <td>NaN</td>\n",
       "      <td>0</td>\n",
       "      <td>1</td>\n",
       "      <td>2</td>\n",
       "      <td>3</td>\n",
       "      <td>4</td>\n",
       "      <td>5</td>\n",
       "      <td>6</td>\n",
       "      <td>7</td>\n",
       "      <td>8</td>\n",
       "      <td>...</td>\n",
       "      <td>65527</td>\n",
       "      <td>65528</td>\n",
       "      <td>65529</td>\n",
       "      <td>65530</td>\n",
       "      <td>65531</td>\n",
       "      <td>65532</td>\n",
       "      <td>65533</td>\n",
       "      <td>65534</td>\n",
       "      <td>65535</td>\n",
       "      <td>0</td>\n",
       "    </tr>\n",
       "    <tr>\n",
       "      <th>1</th>\n",
       "      <td>0.0</td>\n",
       "      <td>81</td>\n",
       "      <td>77</td>\n",
       "      <td>81</td>\n",
       "      <td>82</td>\n",
       "      <td>79</td>\n",
       "      <td>82</td>\n",
       "      <td>81</td>\n",
       "      <td>79</td>\n",
       "      <td>81</td>\n",
       "      <td>...</td>\n",
       "      <td>19</td>\n",
       "      <td>20</td>\n",
       "      <td>22</td>\n",
       "      <td>22</td>\n",
       "      <td>17</td>\n",
       "      <td>17</td>\n",
       "      <td>17</td>\n",
       "      <td>22</td>\n",
       "      <td>24</td>\n",
       "      <td>0</td>\n",
       "    </tr>\n",
       "    <tr>\n",
       "      <th>2</th>\n",
       "      <td>1.0</td>\n",
       "      <td>6</td>\n",
       "      <td>5</td>\n",
       "      <td>5</td>\n",
       "      <td>6</td>\n",
       "      <td>5</td>\n",
       "      <td>5</td>\n",
       "      <td>5</td>\n",
       "      <td>5</td>\n",
       "      <td>5</td>\n",
       "      <td>...</td>\n",
       "      <td>5</td>\n",
       "      <td>6</td>\n",
       "      <td>5</td>\n",
       "      <td>5</td>\n",
       "      <td>5</td>\n",
       "      <td>5</td>\n",
       "      <td>5</td>\n",
       "      <td>5</td>\n",
       "      <td>5</td>\n",
       "      <td>0</td>\n",
       "    </tr>\n",
       "    <tr>\n",
       "      <th>3</th>\n",
       "      <td>2.0</td>\n",
       "      <td>15</td>\n",
       "      <td>16</td>\n",
       "      <td>16</td>\n",
       "      <td>17</td>\n",
       "      <td>16</td>\n",
       "      <td>15</td>\n",
       "      <td>16</td>\n",
       "      <td>16</td>\n",
       "      <td>16</td>\n",
       "      <td>...</td>\n",
       "      <td>18</td>\n",
       "      <td>22</td>\n",
       "      <td>23</td>\n",
       "      <td>15</td>\n",
       "      <td>12</td>\n",
       "      <td>11</td>\n",
       "      <td>12</td>\n",
       "      <td>12</td>\n",
       "      <td>12</td>\n",
       "      <td>0</td>\n",
       "    </tr>\n",
       "    <tr>\n",
       "      <th>4</th>\n",
       "      <td>3.0</td>\n",
       "      <td>97</td>\n",
       "      <td>99</td>\n",
       "      <td>96</td>\n",
       "      <td>93</td>\n",
       "      <td>92</td>\n",
       "      <td>93</td>\n",
       "      <td>92</td>\n",
       "      <td>91</td>\n",
       "      <td>91</td>\n",
       "      <td>...</td>\n",
       "      <td>48</td>\n",
       "      <td>60</td>\n",
       "      <td>69</td>\n",
       "      <td>65</td>\n",
       "      <td>61</td>\n",
       "      <td>58</td>\n",
       "      <td>50</td>\n",
       "      <td>49</td>\n",
       "      <td>53</td>\n",
       "      <td>0</td>\n",
       "    </tr>\n",
       "    <tr>\n",
       "      <th>...</th>\n",
       "      <td>...</td>\n",
       "      <td>...</td>\n",
       "      <td>...</td>\n",
       "      <td>...</td>\n",
       "      <td>...</td>\n",
       "      <td>...</td>\n",
       "      <td>...</td>\n",
       "      <td>...</td>\n",
       "      <td>...</td>\n",
       "      <td>...</td>\n",
       "      <td>...</td>\n",
       "      <td>...</td>\n",
       "      <td>...</td>\n",
       "      <td>...</td>\n",
       "      <td>...</td>\n",
       "      <td>...</td>\n",
       "      <td>...</td>\n",
       "      <td>...</td>\n",
       "      <td>...</td>\n",
       "      <td>...</td>\n",
       "      <td>...</td>\n",
       "    </tr>\n",
       "    <tr>\n",
       "      <th>996</th>\n",
       "      <td>995.0</td>\n",
       "      <td>11</td>\n",
       "      <td>13</td>\n",
       "      <td>15</td>\n",
       "      <td>22</td>\n",
       "      <td>26</td>\n",
       "      <td>24</td>\n",
       "      <td>24</td>\n",
       "      <td>23</td>\n",
       "      <td>24</td>\n",
       "      <td>...</td>\n",
       "      <td>88</td>\n",
       "      <td>88</td>\n",
       "      <td>87</td>\n",
       "      <td>86</td>\n",
       "      <td>87</td>\n",
       "      <td>87</td>\n",
       "      <td>88</td>\n",
       "      <td>87</td>\n",
       "      <td>86</td>\n",
       "      <td>1</td>\n",
       "    </tr>\n",
       "    <tr>\n",
       "      <th>997</th>\n",
       "      <td>996.0</td>\n",
       "      <td>66</td>\n",
       "      <td>63</td>\n",
       "      <td>63</td>\n",
       "      <td>62</td>\n",
       "      <td>60</td>\n",
       "      <td>59</td>\n",
       "      <td>49</td>\n",
       "      <td>65</td>\n",
       "      <td>76</td>\n",
       "      <td>...</td>\n",
       "      <td>180</td>\n",
       "      <td>178</td>\n",
       "      <td>187</td>\n",
       "      <td>169</td>\n",
       "      <td>150</td>\n",
       "      <td>137</td>\n",
       "      <td>165</td>\n",
       "      <td>148</td>\n",
       "      <td>85</td>\n",
       "      <td>1</td>\n",
       "    </tr>\n",
       "    <tr>\n",
       "      <th>998</th>\n",
       "      <td>997.0</td>\n",
       "      <td>86</td>\n",
       "      <td>87</td>\n",
       "      <td>89</td>\n",
       "      <td>91</td>\n",
       "      <td>84</td>\n",
       "      <td>91</td>\n",
       "      <td>91</td>\n",
       "      <td>88</td>\n",
       "      <td>91</td>\n",
       "      <td>...</td>\n",
       "      <td>58</td>\n",
       "      <td>49</td>\n",
       "      <td>51</td>\n",
       "      <td>58</td>\n",
       "      <td>44</td>\n",
       "      <td>44</td>\n",
       "      <td>45</td>\n",
       "      <td>39</td>\n",
       "      <td>44</td>\n",
       "      <td>1</td>\n",
       "    </tr>\n",
       "    <tr>\n",
       "      <th>999</th>\n",
       "      <td>998.0</td>\n",
       "      <td>129</td>\n",
       "      <td>128</td>\n",
       "      <td>150</td>\n",
       "      <td>174</td>\n",
       "      <td>159</td>\n",
       "      <td>162</td>\n",
       "      <td>157</td>\n",
       "      <td>144</td>\n",
       "      <td>130</td>\n",
       "      <td>...</td>\n",
       "      <td>103</td>\n",
       "      <td>102</td>\n",
       "      <td>103</td>\n",
       "      <td>100</td>\n",
       "      <td>88</td>\n",
       "      <td>84</td>\n",
       "      <td>84</td>\n",
       "      <td>76</td>\n",
       "      <td>27</td>\n",
       "      <td>1</td>\n",
       "    </tr>\n",
       "    <tr>\n",
       "      <th>1000</th>\n",
       "      <td>999.0</td>\n",
       "      <td>16</td>\n",
       "      <td>14</td>\n",
       "      <td>14</td>\n",
       "      <td>18</td>\n",
       "      <td>14</td>\n",
       "      <td>10</td>\n",
       "      <td>10</td>\n",
       "      <td>6</td>\n",
       "      <td>12</td>\n",
       "      <td>...</td>\n",
       "      <td>14</td>\n",
       "      <td>19</td>\n",
       "      <td>20</td>\n",
       "      <td>19</td>\n",
       "      <td>23</td>\n",
       "      <td>19</td>\n",
       "      <td>13</td>\n",
       "      <td>14</td>\n",
       "      <td>8</td>\n",
       "      <td>1</td>\n",
       "    </tr>\n",
       "  </tbody>\n",
       "</table>\n",
       "<p>2002 rows × 65538 columns</p>\n",
       "</div>"
      ],
      "text/plain": [
       "          0    1    2    3    4    5    6    7    8    9  ...  65528  65529  \\\n",
       "0       NaN    0    1    2    3    4    5    6    7    8  ...  65527  65528   \n",
       "1       0.0   81   77   81   82   79   82   81   79   81  ...     19     20   \n",
       "2       1.0    6    5    5    6    5    5    5    5    5  ...      5      6   \n",
       "3       2.0   15   16   16   17   16   15   16   16   16  ...     18     22   \n",
       "4       3.0   97   99   96   93   92   93   92   91   91  ...     48     60   \n",
       "...     ...  ...  ...  ...  ...  ...  ...  ...  ...  ...  ...    ...    ...   \n",
       "996   995.0   11   13   15   22   26   24   24   23   24  ...     88     88   \n",
       "997   996.0   66   63   63   62   60   59   49   65   76  ...    180    178   \n",
       "998   997.0   86   87   89   91   84   91   91   88   91  ...     58     49   \n",
       "999   998.0  129  128  150  174  159  162  157  144  130  ...    103    102   \n",
       "1000  999.0   16   14   14   18   14   10   10    6   12  ...     14     19   \n",
       "\n",
       "      65530  65531  65532  65533  65534  65535  65536  isInfected  \n",
       "0     65529  65530  65531  65532  65533  65534  65535           0  \n",
       "1        22     22     17     17     17     22     24           0  \n",
       "2         5      5      5      5      5      5      5           0  \n",
       "3        23     15     12     11     12     12     12           0  \n",
       "4        69     65     61     58     50     49     53           0  \n",
       "...     ...    ...    ...    ...    ...    ...    ...         ...  \n",
       "996      87     86     87     87     88     87     86           1  \n",
       "997     187    169    150    137    165    148     85           1  \n",
       "998      51     58     44     44     45     39     44           1  \n",
       "999     103    100     88     84     84     76     27           1  \n",
       "1000     20     19     23     19     13     14      8           1  \n",
       "\n",
       "[2002 rows x 65538 columns]"
      ]
     },
     "execution_count": 6,
     "metadata": {},
     "output_type": "execute_result"
    }
   ],
   "source": [
    "#1 Si tiene 0 No tiene\n",
    "df1['isInfected'] = 0\n",
    "df2['isInfected'] = 1\n",
    "\n",
    "df  = pd.concat([df1, df2])\n",
    "df"
   ]
  },
  {
   "cell_type": "markdown",
   "id": "c8f57569",
   "metadata": {},
   "source": [
    "### Observaciones del Dataframe completo"
   ]
  },
  {
   "cell_type": "code",
   "execution_count": 7,
   "id": "50bf7e9a",
   "metadata": {},
   "outputs": [
    {
     "data": {
      "text/plain": [
       "(2002, 65538)"
      ]
     },
     "execution_count": 7,
     "metadata": {},
     "output_type": "execute_result"
    }
   ],
   "source": [
    "df.shape"
   ]
  },
  {
   "cell_type": "markdown",
   "id": "d2f4fdb7",
   "metadata": {},
   "source": [
    "Eliminamos la columna que guarda el indice dos veces por el método concat"
   ]
  },
  {
   "cell_type": "code",
   "execution_count": 8,
   "id": "1d1a6271",
   "metadata": {},
   "outputs": [],
   "source": [
    "del df[0]"
   ]
  },
  {
   "cell_type": "markdown",
   "id": "bebb8926",
   "metadata": {},
   "source": [
    "Analisis Exploratorio"
   ]
  },
  {
   "cell_type": "code",
   "execution_count": 9,
   "id": "e19af9d2",
   "metadata": {},
   "outputs": [],
   "source": [
    "#profile = df.profile_report(title=\"EDM\")\n",
    "#profile.to_file(output_file=\"proyect_pandas_report.html\")"
   ]
  },
  {
   "cell_type": "markdown",
   "id": "4200138e",
   "metadata": {},
   "source": [
    "Dado que el dataframe era muy grande, se tomo una pequeña muestra de los datos correspondientes entre los dos dataframe para realizar el modelo."
   ]
  },
  {
   "cell_type": "markdown",
   "id": "bed1e24c",
   "metadata": {},
   "source": [
    "# Módelos DP/ML/RL"
   ]
  },
  {
   "cell_type": "markdown",
   "id": "4711af89",
   "metadata": {},
   "source": [
    "## Naive Bayes"
   ]
  },
  {
   "cell_type": "markdown",
   "id": "efcb0455",
   "metadata": {},
   "source": [
    "Partimos el SET (entrenamiento 55%, validación 15%, prueba 30%)"
   ]
  },
  {
   "cell_type": "code",
   "execution_count": 10,
   "id": "42039632",
   "metadata": {
    "scrolled": true
   },
   "outputs": [
    {
     "name": "stdout",
     "output_type": "stream",
     "text": [
      "<class 'pandas.core.frame.DataFrame'>\n",
      "Int64Index: 1101 entries, 654 to 684\n",
      "Columns: 65536 entries, 1 to 65536\n",
      "dtypes: int64(65536)\n",
      "memory usage: 550.5 MB\n"
     ]
    }
   ],
   "source": [
    "X = df.drop(columns = ['isInfected']).copy()\n",
    "y = df['isInfected']\n",
    "\n",
    "#Dividiremos nuestros datos en dos gran conjuntos(entrenamiento y data restante)\n",
    "x_train, x_rem, y_train, y_rem = train_test_split(X, y, train_size = 0.55, random_state = 0)\n",
    "x_train.info()"
   ]
  },
  {
   "cell_type": "code",
   "execution_count": 11,
   "id": "54df9dc1",
   "metadata": {},
   "outputs": [
    {
     "name": "stdout",
     "output_type": "stream",
     "text": [
      "<class 'pandas.core.frame.DataFrame'>\n",
      "Int64Index: 306 entries, 452 to 473\n",
      "Columns: 65536 entries, 1 to 65536\n",
      "dtypes: int64(65536)\n",
      "memory usage: 153.0 MB\n"
     ]
    }
   ],
   "source": [
    "#Dividiremos nuestros datos en dos gran conjuntos(validación y prueba)\n",
    "#45% -> 100\n",
    "#30% -> x\n",
    "#x = 66.67\n",
    "x_valid, x_test, y_valid, y_test = train_test_split(x_rem, y_rem, test_size = 0.66, random_state = 0)\n",
    "x_valid.info()"
   ]
  },
  {
   "cell_type": "markdown",
   "id": "71face3e",
   "metadata": {},
   "source": [
    "### Observaciones de los conjuntos de Entrenamiento, Validación y Prueba"
   ]
  },
  {
   "cell_type": "code",
   "execution_count": 12,
   "id": "c778dcfb",
   "metadata": {},
   "outputs": [
    {
     "name": "stdout",
     "output_type": "stream",
     "text": [
      "X train shape:  (1101, 65536)\n",
      "Y train shape:  (1101,)\n",
      "X valid shape:  (306, 65536)\n",
      "Y valid shape:  (306,)\n",
      "X test shape:  (595, 65536)\n",
      "Y test shape:  (595,)\n"
     ]
    }
   ],
   "source": [
    "print(\"X train shape: \", x_train.shape)\n",
    "print(\"Y train shape: \", y_train.shape)\n",
    "print(\"X valid shape: \", x_valid.shape)\n",
    "print(\"Y valid shape: \", y_valid.shape)\n",
    "print(\"X test shape: \", x_test.shape)\n",
    "print(\"Y test shape: \", y_test.shape)"
   ]
  },
  {
   "cell_type": "markdown",
   "id": "c5bb6e3f",
   "metadata": {},
   "source": [
    "Declaramos el Modelo"
   ]
  },
  {
   "cell_type": "code",
   "execution_count": 13,
   "id": "a17ca439",
   "metadata": {},
   "outputs": [],
   "source": [
    "gnb = GaussianNB()\n",
    "y_pred = gnb.fit(x_train, y_train).predict(x_test)"
   ]
  },
  {
   "cell_type": "markdown",
   "id": "b4fa3487",
   "metadata": {},
   "source": [
    "Metricas"
   ]
  },
  {
   "cell_type": "code",
   "execution_count": 14,
   "id": "4e424cf2",
   "metadata": {},
   "outputs": [
    {
     "name": "stdout",
     "output_type": "stream",
     "text": [
      "Accuracy: 0.4907563025210084\n",
      "F1 Score: 0.6561859918713822\n",
      "Precision 0.9931972789115646\n",
      "Recall 0.4924114671163575\n"
     ]
    }
   ],
   "source": [
    "accuray = accuracy_score(y_pred, y_test)\n",
    "f1 = f1_score(y_pred, y_test, average=\"weighted\")\n",
    "precision = precision_score(y_pred, y_test)\n",
    "recall = recall_score(y_pred, y_test)\n",
    "\n",
    "print(\"Accuracy:\", accuray)\n",
    "print(\"F1 Score:\", f1)\n",
    "print(\"Precision\", precision)\n",
    "print(\"Recall\", recall)"
   ]
  },
  {
   "cell_type": "markdown",
   "id": "44e204e0",
   "metadata": {},
   "source": [
    "Matriz de Confusión"
   ]
  },
  {
   "cell_type": "code",
   "execution_count": 15,
   "id": "683ab034",
   "metadata": {},
   "outputs": [
    {
     "data": {
      "image/png": "[encoded data removed]",
      "text/plain": [
       "<Figure size 432x288 with 2 Axes>"
      ]
     },
     "metadata": {
      "needs_background": "light"
     },
     "output_type": "display_data"
    }
   ],
   "source": [
    "labels = [0,1,2]\n",
    "cm = confusion_matrix(y_test, y_pred, labels=labels)\n",
    "disp = ConfusionMatrixDisplay(confusion_matrix=cm, display_labels=labels)\n",
    "disp.plot();"
   ]
  },
  {
   "cell_type": "code",
   "execution_count": 16,
   "id": "fe09c89c-2179-460d-8975-2aa5840c2f8b",
   "metadata": {},
   "outputs": [],
   "source": [
    "from sklearn.model_selection import KFold\n",
    "from sklearn.model_selection import train_test_split,cross_val_score, cross_validate"
   ]
  },
  {
   "cell_type": "markdown",
   "id": "5145864a-0814-46d8-a324-24fc71e25b5d",
   "metadata": {},
   "source": [
    "### Cross Validation"
   ]
  },
  {
   "cell_type": "code",
   "execution_count": 17,
   "id": "0d73e4d3-3559-45ca-bc8a-58066952d5bd",
   "metadata": {},
   "outputs": [
    {
     "name": "stdout",
     "output_type": "stream",
     "text": [
      "0.49 accuracy with a standard deviation of 0.04\n"
     ]
    }
   ],
   "source": [
    "cv = KFold(n_splits=10, random_state=42, shuffle=True)\n",
    "scores = cross_val_score(gnb,x_train,y_train, scoring='accuracy', cv=cv, n_jobs=-1)\n",
    "print(\"%0.2f accuracy with a standard deviation of %0.2f\" % (scores.mean(), scores.std()))"
   ]
  },
  {
   "cell_type": "markdown",
   "id": "1a45c4e7-c445-4926-a3f2-9ef6dbf7528d",
   "metadata": {},
   "source": [
    "Podemos observar de que nuestro segundo modelo contiene un accuracy promedio de 0.49 de accuracy con una desviacion estandar de 0.04 que es muy similar al modelo anterior. Por lo que el modelo es capaz de predecir correctamente el casi la mitad de los datos de entrenamiento"
   ]
  },
  {
   "cell_type": "markdown",
   "id": "d5b17b4f",
   "metadata": {},
   "source": [
    "## Gradient Boost Classifier"
   ]
  },
  {
   "cell_type": "code",
   "execution_count": 18,
   "id": "48d92444",
   "metadata": {},
   "outputs": [],
   "source": [
    "gbm = GradientBoostingClassifier(n_estimators=100, learning_rate=0.1, max_depth=3, random_state=42)\n",
    "gbm.fit(x_train, y_train)\n",
    "y_pred = gbm.predict(x_test)"
   ]
  },
  {
   "cell_type": "code",
   "execution_count": 19,
   "id": "bb153ca5",
   "metadata": {},
   "outputs": [
    {
     "name": "stdout",
     "output_type": "stream",
     "text": [
      "Accuracy: 0.23697478991596638\n",
      "F1 Score: 0.23824367884626138\n",
      "Precision 0.2755102040816326\n",
      "Recall 0.2515527950310559\n"
     ]
    }
   ],
   "source": [
    "accuray = accuracy_score(y_pred, y_test)\n",
    "f1 = f1_score(y_pred, y_test, average=\"weighted\")\n",
    "precision = precision_score(y_pred, y_test)\n",
    "recall = recall_score(y_pred, y_test)\n",
    "\n",
    "print(\"Accuracy:\", accuray)\n",
    "print(\"F1 Score:\", f1)\n",
    "print(\"Precision\", precision)\n",
    "print(\"Recall\", recall)"
   ]
  },
  {
   "cell_type": "markdown",
   "id": "a6a16e69-2f32-4cfb-a99a-7280e2d882c2",
   "metadata": {},
   "source": [
    "### Cross Validation"
   ]
  },
  {
   "cell_type": "code",
   "execution_count": 20,
   "id": "7cfc6c00-453f-4950-848d-9ff2ab19d075",
   "metadata": {},
   "outputs": [
    {
     "name": "stdout",
     "output_type": "stream",
     "text": [
      "0.26 accuracy with a standard deviation of 0.05\n"
     ]
    }
   ],
   "source": [
    "cv = KFold(n_splits=10, random_state=42, shuffle=True)\n",
    "scores = cross_val_score(gbm,x_train,y_train, scoring='accuracy', cv=cv, n_jobs=-1)\n",
    "print(\"%0.2f accuracy with a standard deviation of %0.2f\" % (scores.mean(), scores.std()))"
   ]
  },
  {
   "cell_type": "markdown",
   "id": "16eceec7",
   "metadata": {},
   "source": [
    "###  SVM model\n"
   ]
  },
  {
   "cell_type": "code",
   "execution_count": 21,
   "id": "bd914813",
   "metadata": {},
   "outputs": [],
   "source": [
    "clf = svm.SVC(kernel='linear') # Linear Kernel\n",
    "\n",
    "#Train the model using the training sets\n",
    "clf.fit(x_train, y_train)\n",
    "\n",
    "#Predict the response for test dataset\n",
    "y_pred = clf.predict(x_test)"
   ]
  },
  {
   "cell_type": "code",
   "execution_count": 22,
   "id": "1d3ea6d1",
   "metadata": {},
   "outputs": [
    {
     "name": "stdout",
     "output_type": "stream",
     "text": [
      "Accuracy: 0.23865546218487396\n",
      "F1 Score: 0.23953431195224795\n",
      "Precision 0.20068027210884354\n",
      "Recall 0.21299638989169675\n"
     ]
    }
   ],
   "source": [
    "accuray = accuracy_score(y_pred, y_test)\n",
    "f1 = f1_score(y_pred, y_test, average=\"weighted\")\n",
    "precision = precision_score(y_pred, y_test)\n",
    "recall = recall_score(y_pred, y_test)\n",
    "\n",
    "print(\"Accuracy:\", accuray)\n",
    "print(\"F1 Score:\", f1)\n",
    "print(\"Precision\", precision)\n",
    "print(\"Recall\", recall)"
   ]
  },
  {
   "cell_type": "code",
   "execution_count": 23,
   "id": "013b2349",
   "metadata": {},
   "outputs": [
    {
     "data": {
      "image/png": "[encoded data removed]",
      "text/plain": [
       "<Figure size 432x288 with 2 Axes>"
      ]
     },
     "metadata": {
      "needs_background": "light"
     },
     "output_type": "display_data"
    }
   ],
   "source": [
    "labels = [0,1,2]\n",
    "cm = confusion_matrix(y_test, y_pred, labels=labels)\n",
    "disp = ConfusionMatrixDisplay(confusion_matrix=cm, display_labels=labels)\n",
    "disp.plot();"
   ]
  },
  {
   "cell_type": "markdown",
   "id": "071dc5c3-8c27-4ec5-8ac0-bbb5bc5ccd83",
   "metadata": {},
   "source": [
    "### Cross Validation"
   ]
  },
  {
   "cell_type": "code",
   "execution_count": 24,
   "id": "9df0f0f7",
   "metadata": {},
   "outputs": [
    {
     "name": "stdout",
     "output_type": "stream",
     "text": [
      "0.27 accuracy with a standard deviation of 0.02\n"
     ]
    }
   ],
   "source": [
    "cv = KFold(n_splits=10, random_state=42, shuffle=True)\n",
    "scores = cross_val_score(clf,x_train,y_train, scoring='accuracy', cv=cv, n_jobs=-1)\n",
    "print(\"%0.2f accuracy with a standard deviation of %0.2f\" % (scores.mean(), scores.std()))"
   ]
  }
 ],
 "metadata": {
  "kernelspec": {
   "display_name": "Python 3 (ipykernel)",
   "language": "python",
   "name": "python3"
  },
  "language_info": {
   "codemirror_mode": {
    "name": "ipython",
    "version": 3
   },
   "file_extension": ".py",
   "mimetype": "text/x-python",
   "name": "python",
   "nbconvert_exporter": "python",
   "pygments_lexer": "ipython3",
   "version": "3.9.13"
  }
 },
 "nbformat": 4,
 "nbformat_minor": 5
}
